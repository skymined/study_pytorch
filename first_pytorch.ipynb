{
 "cells": [
  {
   "cell_type": "code",
   "execution_count": 2,
   "id": "b942c453",
   "metadata": {},
   "outputs": [],
   "source": [
    "import torch\n",
    "import numpy as np"
   ]
  },
  {
   "cell_type": "code",
   "execution_count": 3,
   "id": "f1bfba3f",
   "metadata": {},
   "outputs": [],
   "source": [
    "data = [[1, 2],[3, 4]]\n",
    "x_data = torch.tensor(data)"
   ]
  },
  {
   "cell_type": "markdown",
   "id": "352c33d9",
   "metadata": {},
   "source": [
    "### tensor"
   ]
  },
  {
   "cell_type": "code",
   "execution_count": 17,
   "id": "c253efc5",
   "metadata": {},
   "outputs": [
    {
     "name": "stdout",
     "output_type": "stream",
     "text": [
      "tensor([[8.2645e+20, 1.2915e-11],\n",
      "        [2.6855e-06, 3.3057e+21],\n",
      "        [4.4150e-05, 1.0335e-05],\n",
      "        [3.4199e+21, 2.6950e-09]])\n"
     ]
    }
   ],
   "source": [
    "x=torch.empty(4,2)\n",
    "print(x)"
   ]
  },
  {
   "cell_type": "code",
   "execution_count": 5,
   "id": "e0085ab5",
   "metadata": {},
   "outputs": [
    {
     "name": "stdout",
     "output_type": "stream",
     "text": [
      "tensor([[0.8787, 0.8250],\n",
      "        [0.8589, 0.7848],\n",
      "        [0.6202, 0.8849],\n",
      "        [0.5196, 0.8853]])\n"
     ]
    }
   ],
   "source": [
    "#무작위로 초기화된 텐서\n",
    "x = torch.rand(4,2)\n",
    "print(x)"
   ]
  },
  {
   "cell_type": "code",
   "execution_count": 6,
   "id": "8838855c",
   "metadata": {},
   "outputs": [
    {
     "name": "stdout",
     "output_type": "stream",
     "text": [
      "tensor([[0, 0],\n",
      "        [0, 0],\n",
      "        [0, 0],\n",
      "        [0, 0]])\n"
     ]
    }
   ],
   "source": [
    "#데이터 타입이 long이고, 0으로 채워진 텐서 (long이기 때문에 소수형 없이 정수형 형태)\n",
    "x = torch.zeros(4,2, dtype=torch.long )\n",
    "print(x)"
   ]
  },
  {
   "cell_type": "code",
   "execution_count": 7,
   "id": "f7e30f1d",
   "metadata": {},
   "outputs": [
    {
     "name": "stdout",
     "output_type": "stream",
     "text": [
      "tensor([3.0000, 2.3000])\n"
     ]
    }
   ],
   "source": [
    "#사용자가 입력한 값으로 텐서 초기화\n",
    "x = torch.tensor([3,2.3])\n",
    "print(x)"
   ]
  },
  {
   "cell_type": "code",
   "execution_count": 8,
   "id": "7acaadc0",
   "metadata": {},
   "outputs": [
    {
     "name": "stdout",
     "output_type": "stream",
     "text": [
      "tensor([[1., 1., 1., 1.],\n",
      "        [1., 1., 1., 1.]], dtype=torch.float64)\n"
     ]
    }
   ],
   "source": [
    "#2X4 크기, double타입, 1로 채워진 텐서\n",
    "x = x.new_ones(2,4, dtype=torch.double)\n",
    "print(x)"
   ]
  },
  {
   "cell_type": "code",
   "execution_count": 9,
   "id": "4ee0835f",
   "metadata": {},
   "outputs": [
    {
     "name": "stdout",
     "output_type": "stream",
     "text": [
      "tensor([[ 0.2800, -1.0084,  0.6670,  0.8920],\n",
      "        [-1.1303,  0.8352,  1.2674,  0.1286]])\n"
     ]
    }
   ],
   "source": [
    "# x와 같은 크기, float 타입, 무작위로 채워진 텐서\n",
    "x = torch.randn_like(x, dtype=torch.float)\n",
    "print(x)"
   ]
  },
  {
   "cell_type": "code",
   "execution_count": 10,
   "id": "f877ab85",
   "metadata": {},
   "outputs": [
    {
     "name": "stdout",
     "output_type": "stream",
     "text": [
      "torch.Size([2, 4])\n"
     ]
    }
   ],
   "source": [
    "#텐서의 크기 계산\n",
    "print(x.size())"
   ]
  },
  {
   "cell_type": "markdown",
   "id": "8e775e3f",
   "metadata": {},
   "source": [
    "### 데이터 타입"
   ]
  },
  {
   "cell_type": "code",
   "execution_count": 12,
   "id": "8837501a",
   "metadata": {},
   "outputs": [
    {
     "name": "stdout",
     "output_type": "stream",
     "text": [
      "tensor([1., 2., 3.])\n",
      "torch.float32\n"
     ]
    }
   ],
   "source": [
    "ft = torch.FloatTensor([1,2,3]) #기본이 32\n",
    "print(ft)\n",
    "print(ft.dtype)"
   ]
  },
  {
   "cell_type": "code",
   "execution_count": 13,
   "id": "92d51b22",
   "metadata": {},
   "outputs": [
    {
     "name": "stdout",
     "output_type": "stream",
     "text": [
      "tensor([1, 2, 3], dtype=torch.int16)\n",
      "tensor([1, 2, 3], dtype=torch.int32)\n",
      "tensor([1, 2, 3])\n"
     ]
    }
   ],
   "source": [
    "print(ft.short()) # 캐스팅\n",
    "print(ft.int())\n",
    "print(ft.long())"
   ]
  },
  {
   "cell_type": "code",
   "execution_count": 15,
   "id": "0899de19",
   "metadata": {},
   "outputs": [
    {
     "name": "stdout",
     "output_type": "stream",
     "text": [
      "tensor([1, 2, 3], dtype=torch.int32)\n",
      "torch.int32\n"
     ]
    }
   ],
   "source": [
    "it = torch.IntTensor([1,2,3])\n",
    "print(it)\n",
    "print(it.dtype)"
   ]
  },
  {
   "cell_type": "code",
   "execution_count": 16,
   "id": "80428623",
   "metadata": {},
   "outputs": [
    {
     "name": "stdout",
     "output_type": "stream",
     "text": [
      "tensor([1., 2., 3.])\n",
      "tensor([1., 2., 3.], dtype=torch.float64)\n",
      "tensor([1., 2., 3.], dtype=torch.float16)\n"
     ]
    }
   ],
   "source": [
    "print(it.float()) #일반은 32bit 였음\n",
    "print(it.double())\n",
    "print(it.half())"
   ]
  },
  {
   "cell_type": "markdown",
   "id": "bf08f371",
   "metadata": {},
   "source": [
    "### CUDA Tensors\n",
    "- .to 메소드를 이용해 텐서를 어떠한 장치(CPU, GPU)로도 옮길 수 있음"
   ]
  },
  {
   "cell_type": "code",
   "execution_count": 20,
   "id": "4d32a55c",
   "metadata": {},
   "outputs": [
    {
     "name": "stdout",
     "output_type": "stream",
     "text": [
      "tensor([0.4489])\n",
      "0.4489488899707794\n",
      "torch.float32\n"
     ]
    }
   ],
   "source": [
    "x = torch.randn(1)\n",
    "print(x)\n",
    "print(x.item())\n",
    "print(x.dtype)"
   ]
  },
  {
   "cell_type": "code",
   "execution_count": 23,
   "id": "e26ac4e0",
   "metadata": {},
   "outputs": [
    {
     "name": "stdout",
     "output_type": "stream",
     "text": [
      "cpu\n",
      "tensor([1.])\n"
     ]
    }
   ],
   "source": [
    "#디바이스를 정의\n",
    "device = torch.device('cuda' if torch.cuda.is_available() else 'cpu')\n",
    "print(device)\n",
    "y=torch.ones_like(x, device=device)\n",
    "print(y)"
   ]
  },
  {
   "cell_type": "markdown",
   "id": "500dff2d",
   "metadata": {},
   "source": [
    "### 다차원 텐서 표현"
   ]
  },
  {
   "cell_type": "markdown",
   "id": "f6335c8e",
   "metadata": {},
   "source": [
    "0D Tensor(Scalar)\n",
    "- 하나의 숫자를 담고 있는 텐서(tensor)\n",
    "- 축과 형상이 없음"
   ]
  },
  {
   "cell_type": "code",
   "execution_count": 24,
   "id": "9609895b",
   "metadata": {},
   "outputs": [
    {
     "name": "stdout",
     "output_type": "stream",
     "text": [
      "0\n",
      "torch.Size([])\n",
      "tensor(0)\n"
     ]
    }
   ],
   "source": [
    "t0 = torch.tensor(0)\n",
    "print(t0.ndim) # dimension\n",
    "print(t0.shape)\n",
    "print(t0) # 실제값"
   ]
  },
  {
   "cell_type": "markdown",
   "id": "60126d66",
   "metadata": {},
   "source": [
    "1D Tensor(Vector)\n",
    "- 값들을 저장한 리스트와 유사한 텐서\n",
    "- 하나의 축이 존재"
   ]
  },
  {
   "cell_type": "code",
   "execution_count": 26,
   "id": "6e1a0aba",
   "metadata": {},
   "outputs": [
    {
     "name": "stdout",
     "output_type": "stream",
     "text": [
      "1\n",
      "torch.Size([3])\n",
      "tensor([1, 2, 3])\n"
     ]
    }
   ],
   "source": [
    "t1 = torch.tensor([1,2,3])\n",
    "print(t1.ndim) # dimension\n",
    "print(t1.shape)\n",
    "print(t1) # 실제값"
   ]
  },
  {
   "cell_type": "markdown",
   "id": "c00394d7",
   "metadata": {},
   "source": [
    "2D Tensor(Matrix)\n",
    "- 행렬과 같은 모양으로 두 개의 축이 존재\n",
    "- 일반적인 수치, 통계 데이터셋이 해당\n",
    "- 주로 샘플과 특성을 가진 구조로 사용함"
   ]
  },
  {
   "cell_type": "code",
   "execution_count": null,
   "id": "fd16c1a4",
   "metadata": {},
   "outputs": [],
   "source": []
  }
 ],
 "metadata": {
  "kernelspec": {
   "display_name": "deepai",
   "language": "python",
   "name": "deepai"
  },
  "language_info": {
   "codemirror_mode": {
    "name": "ipython",
    "version": 3
   },
   "file_extension": ".py",
   "mimetype": "text/x-python",
   "name": "python",
   "nbconvert_exporter": "python",
   "pygments_lexer": "ipython3",
   "version": "3.7.16"
  }
 },
 "nbformat": 4,
 "nbformat_minor": 5
}
